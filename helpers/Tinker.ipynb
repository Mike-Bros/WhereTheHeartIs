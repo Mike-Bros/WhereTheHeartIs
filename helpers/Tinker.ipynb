{
 "cells": [
  {
   "cell_type": "code",
   "id": "initial_id",
   "metadata": {
    "collapsed": true,
    "ExecuteTime": {
     "end_time": "2024-04-30T00:34:39.521520Z",
     "start_time": "2024-04-30T00:34:38.553246Z"
    }
   },
   "source": [
    "# Import the required libraries\n",
    "import helpers.MortgagePaymentCalculator as mpc\n",
    "import ipywidgets as widgets\n",
    "import matplotlib.pyplot as plt\n",
    "from IPython.display import display, HTML\n",
    "\n",
    "# Setup widgets using WidgetHelpers\n",
    "# Display the custom CSS\n",
    "display(HTML(mpc.WidgetHelpers.style_css()))\n",
    "\n",
    "# Create the widgets\n",
    "calculator_widgets = mpc.WidgetHelpers.create_mortgage_payment_calculator_widgets()\n",
    "# Create the button and output widgets\n",
    "calculate_button = widgets.Button(description=\"Calculate & Plot\", button_style='success')\n",
    "graph_output = widgets.Output()\n",
    "\n",
    "\n",
    "# Define the function to run when the button is clicked\n",
    "def calculate_and_plot(b):\n",
    "    with graph_output:\n",
    "        # Clear the output\n",
    "        graph_output.clear_output(wait=True)\n",
    "        # Calculate the mortgage payments\n",
    "        results = mpc.Calculator.calculate_mortgage_payments(\n",
    "            calculator_widgets['home_price']['slider'].value,\n",
    "            calculator_widgets['down_payment_percent']['slider'].value,\n",
    "            calculator_widgets['loan_term_years']['slider'].value,\n",
    "            calculator_widgets['interest_rate_exact']['slider'].value,\n",
    "            calculator_widgets['interest_rate_start']['slider'].value,\n",
    "            calculator_widgets['interest_rate_end']['slider'].value,\n",
    "            calculator_widgets['interest_rate_step']['slider'].value)\n",
    "        # Construct & display the plot\n",
    "        fig, ax = mpc.Plotter.construct_mortgage_payment_plot(results)\n",
    "        plt.show()\n",
    "\n",
    "\n",
    "# Register the button's event to the function\n",
    "calculate_button.on_click(calculate_and_plot)\n",
    "\n",
    "\n",
    "# Make the sliders update trigger recalculation\n",
    "def update_slider(change):\n",
    "    if change['type'] == 'change' and change['name'] == 'value':\n",
    "        calculate_and_plot(None)\n",
    "\n",
    "\n",
    "for widget in calculator_widgets.values():\n",
    "    widget['slider'].observe(update_slider)\n",
    "# Setup the display layout with all the widgets\n",
    "display(widgets.VBox([\n",
    "    widgets.HBox([calculator_widgets['home_price']['slider'], calculator_widgets['home_price']['label']]),\n",
    "    widgets.HBox(\n",
    "        [calculator_widgets['down_payment_percent']['slider'], calculator_widgets['down_payment_percent']['label']]),\n",
    "    widgets.HBox([calculator_widgets['loan_term_years']['slider'], calculator_widgets['loan_term_years']['label']]),\n",
    "    widgets.HBox(\n",
    "        [calculator_widgets['interest_rate_exact']['slider'], calculator_widgets['interest_rate_exact']['label']]),\n",
    "    widgets.HBox(\n",
    "        [calculator_widgets['interest_rate_start']['slider'], calculator_widgets['interest_rate_start']['label']]),\n",
    "    widgets.HBox([calculator_widgets['interest_rate_end']['slider'], calculator_widgets['interest_rate_end']['label']]),\n",
    "    widgets.HBox(\n",
    "        [calculator_widgets['interest_rate_step']['slider'], calculator_widgets['interest_rate_step']['label']])\n",
    "]))\n",
    "# Display the output\n",
    "display(widgets.VBox([graph_output]))\n"
   ],
   "execution_count": 1,
   "outputs": []
  },
  {
   "metadata": {},
   "cell_type": "code",
   "execution_count": null,
   "source": "",
   "id": "2109326089f4b263",
   "outputs": []
  }
 ],
 "metadata": {
  "kernelspec": {
   "display_name": "Python 3",
   "language": "python",
   "name": "python3"
  },
  "language_info": {
   "codemirror_mode": {
    "name": "ipython",
    "version": 2
   },
   "file_extension": ".py",
   "mimetype": "text/x-python",
   "name": "python",
   "nbconvert_exporter": "python",
   "pygments_lexer": "ipython2",
   "version": "2.7.6"
  }
 },
 "nbformat": 4,
 "nbformat_minor": 5
}
