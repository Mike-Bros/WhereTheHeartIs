{
 "cells": [
  {
   "cell_type": "code",
   "id": "initial_id",
   "metadata": {
    "collapsed": true,
    "ExecuteTime": {
     "end_time": "2024-04-30T00:34:39.521520Z",
     "start_time": "2024-04-30T00:34:38.553246Z"
    }
   },
   "source": [
    "# Import the required libraries\n",
    "import helpers.MortgagePaymentCalculator as mpc\n",
    "import ipywidgets as widgets\n",
    "import matplotlib.pyplot as plt\n",
    "from IPython.display import display, HTML\n",
    "\n",
    "# Setup widgets using WidgetHelpers\n",
    "# Display the custom CSS\n",
    "display(HTML(mpc.WidgetHelpers.style_css()))\n",
    "\n",
    "# Create the widgets\n",
    "calculator_widgets = mpc.WidgetHelpers.create_mortgage_payment_calculator_widgets()\n",
    "# Create the button and output widgets\n",
    "calculate_button = widgets.Button(description=\"Calculate & Plot\", button_style='success')\n",
    "graph_output = widgets.Output()\n",
    "\n",
    "\n",
    "# Define the function to run when the button is clicked\n",
    "def calculate_and_plot(b):\n",
    "    with graph_output:\n",
    "        # Clear the output\n",
    "        graph_output.clear_output(wait=True)\n",
    "        # Calculate the mortgage payments\n",
    "        results = mpc.Calculator.calculate_mortgage_payments(\n",
    "            calculator_widgets['home_price']['slider'].value,\n",
    "            calculator_widgets['down_payment_percent']['slider'].value,\n",
    "            calculator_widgets['loan_term_years']['slider'].value,\n",
    "            calculator_widgets['interest_rate_exact']['slider'].value,\n",
    "            calculator_widgets['interest_rate_start']['slider'].value,\n",
    "            calculator_widgets['interest_rate_end']['slider'].value,\n",
    "            calculator_widgets['interest_rate_step']['slider'].value)\n",
    "        # Construct & display the plot\n",
    "        fig, ax = mpc.Plotter.construct_mortgage_payment_plot(results)\n",
    "        plt.show()\n",
    "\n",
    "\n",
    "# Register the button's event to the function\n",
    "calculate_button.on_click(calculate_and_plot)\n",
    "\n",
    "\n",
    "# Make the sliders update trigger recalculation\n",
    "def update_slider(change):\n",
    "    if change['type'] == 'change' and change['name'] == 'value':\n",
    "        calculate_and_plot(None)\n",
    "\n",
    "\n",
    "for widget in calculator_widgets.values():\n",
    "    widget['slider'].observe(update_slider)\n",
    "# Setup the display layout with all the widgets\n",
    "display(widgets.VBox([\n",
    "    widgets.HBox([calculator_widgets['home_price']['slider'], calculator_widgets['home_price']['label']]),\n",
    "    widgets.HBox(\n",
    "        [calculator_widgets['down_payment_percent']['slider'], calculator_widgets['down_payment_percent']['label']]),\n",
    "    widgets.HBox([calculator_widgets['loan_term_years']['slider'], calculator_widgets['loan_term_years']['label']]),\n",
    "    widgets.HBox(\n",
    "        [calculator_widgets['interest_rate_exact']['slider'], calculator_widgets['interest_rate_exact']['label']]),\n",
    "    widgets.HBox(\n",
    "        [calculator_widgets['interest_rate_start']['slider'], calculator_widgets['interest_rate_start']['label']]),\n",
    "    widgets.HBox([calculator_widgets['interest_rate_end']['slider'], calculator_widgets['interest_rate_end']['label']]),\n",
    "    widgets.HBox(\n",
    "        [calculator_widgets['interest_rate_step']['slider'], calculator_widgets['interest_rate_step']['label']])\n",
    "]))\n",
    "# Display the output\n",
    "display(widgets.VBox([graph_output]))\n"
   ],
   "outputs": [
    {
     "data": {
      "text/plain": [
       "<IPython.core.display.HTML object>"
      ],
      "text/html": [
       "\n",
       "        <style>\n",
       "            .widget-label { width: 20ex !important; }\n",
       "            .widget-slider { width: 60% !important; }\n",
       "            .widget-button { width: 300px !important; margin: 10px 0px; }\n",
       "            .widget-text { width: 300px !important; }\n",
       "            .widget-select { width: 300px !important; }\n",
       "            .widget-output { height: 340px !important; }\n",
       "        </style>\n",
       "        "
      ]
     },
     "metadata": {},
     "output_type": "display_data"
    },
    {
     "data": {
      "text/plain": [
       "VBox(children=(HBox(children=(FloatSlider(value=250000.0, description='Home Price', max=300000.0, min=150000.0…"
      ],
      "application/vnd.jupyter.widget-view+json": {
       "version_major": 2,
       "version_minor": 0,
       "model_id": "ee0f6f2710a448cea2a1e6215c36526f"
      }
     },
     "metadata": {},
     "output_type": "display_data"
    },
    {
     "data": {
      "text/plain": [
       "VBox(children=(Output(),))"
      ],
      "application/vnd.jupyter.widget-view+json": {
       "version_major": 2,
       "version_minor": 0,
       "model_id": "69bb3db7fd9247419b1e7e63efa853af"
      }
     },
     "metadata": {},
     "output_type": "display_data"
    }
   ],
   "execution_count": 1
  },
  {
   "metadata": {},
   "cell_type": "code",
   "outputs": [],
   "execution_count": null,
   "source": "",
   "id": "2109326089f4b263"
  }
 ],
 "metadata": {
  "kernelspec": {
   "display_name": "Python 3",
   "language": "python",
   "name": "python3"
  },
  "language_info": {
   "codemirror_mode": {
    "name": "ipython",
    "version": 2
   },
   "file_extension": ".py",
   "mimetype": "text/x-python",
   "name": "python",
   "nbconvert_exporter": "python",
   "pygments_lexer": "ipython2",
   "version": "2.7.6"
  }
 },
 "nbformat": 4,
 "nbformat_minor": 5
}
