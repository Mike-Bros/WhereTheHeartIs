{
 "cells": [
  {
   "cell_type": "code",
   "metadata": {
    "ExecuteTime": {
     "end_time": "2024-05-01T18:06:25.021712Z",
     "start_time": "2024-05-01T18:06:24.571930Z"
    }
   },
   "source": [
    "# Import the required libraries\n",
    "import helpers.MortgagePaymentCalculator as mpc\n",
    "import ipywidgets as widgets\n",
    "import matplotlib.pyplot as plt\n",
    "from IPython.display import display, HTML"
   ],
   "outputs": [],
   "execution_count": 1
  },
  {
   "cell_type": "code",
   "metadata": {
    "ExecuteTime": {
     "end_time": "2024-05-01T18:06:25.052954Z",
     "start_time": "2024-05-01T18:06:25.022714Z"
    }
   },
   "source": [
    "# Setup widgets using WidgetHelpers\n",
    "# Display the custom CSS\n",
    "display(HTML(mpc.WidgetHelpers.style_css()))\n",
    "\n",
    "# Create the widgets\n",
    "calculator_widgets = mpc.WidgetHelpers.create_mortgage_payment_calculator_widgets()\n",
    "# Create the output widgets\n",
    "summary_output = widgets.Output()\n",
    "\n",
    "\n",
    "# Define the function to run when the button is clicked\n",
    "def calculate_and_plot(b):\n",
    "    # Calculate the mortgage payments\n",
    "    results = mpc.Calculator.calculate_mortgage_payments(\n",
    "        calculator_widgets['home_price']['slider'].value,\n",
    "        calculator_widgets['down_payment_percent']['slider'].value,\n",
    "        calculator_widgets['loan_term_years']['slider'].value,\n",
    "        calculator_widgets['interest_rate_exact']['slider'].value,\n",
    "        calculator_widgets['interest_rate_start']['slider'].value,\n",
    "        calculator_widgets['interest_rate_end']['slider'].value,\n",
    "        calculator_widgets['interest_rate_step']['slider'].value,\n",
    "        calculator_widgets['cash_savings']['slider'].value,\n",
    "        calculator_widgets['moving_cost']['slider'].value,\n",
    "    )\n",
    "    with summary_output:\n",
    "        summary_output.clear_output(wait=True)\n",
    "        fig, ax = mpc.Plotter.construct_summary_graphs(results)\n",
    "        plt.show()\n",
    "\n",
    "\n",
    "# Make the sliders update trigger recalculation with replotting\n",
    "def update_slider(change):\n",
    "    if change['type'] == 'change' and change['name'] == 'value':\n",
    "        calculate_and_plot(None)\n",
    "\n",
    "\n",
    "for widget in calculator_widgets.values():\n",
    "    widget['slider'].observe(update_slider)\n",
    "\n",
    "sliders = []\n",
    "for key, widget in calculator_widgets.items():\n",
    "    sliders.append(widgets.HBox([widget['slider'], widget['label']]))\n",
    "\n",
    "ui = widgets.VBox(sliders)"
   ],
   "outputs": [
    {
     "data": {
      "text/plain": [
       "<IPython.core.display.HTML object>"
      ],
      "text/html": [
       "\n",
       "        <style>\n",
       "            .widget-label { width: 20ex !important; }\n",
       "                .widget-slider { width: 60% !important; }\n",
       "                .widget-button { width: 300px !important; margin: 10px 0px; }\n",
       "                .widget-text { width: 300px !important; }\n",
       "                .widget-select { width: 300px !important; }\n",
       "                .widget-output { height: 100% !important; }\n",
       "            </style>\n",
       "            "
      ]
     },
     "metadata": {},
     "output_type": "display_data"
    }
   ],
   "execution_count": 2
  },
  {
   "cell_type": "code",
   "metadata": {},
   "source": [
    "display(ui)"
   ],
   "outputs": [
    {
     "data": {
      "text/plain": [
       "VBox(children=(HBox(children=(FloatSlider(value=225000.0, description='Home Price', max=300000.0, min=150000.0…"
      ],
      "application/vnd.jupyter.widget-view+json": {
       "version_major": 2,
       "version_minor": 0,
       "model_id": "120bb087a1704081b9ebb4d1dbcdc09a"
      }
     },
     "metadata": {},
     "output_type": "display_data"
    }
   ],
   "execution_count": 3
  },
  {
   "cell_type": "code",
   "metadata": {
    "ExecuteTime": {
     "end_time": "2024-05-01T18:06:25.083026Z",
     "start_time": "2024-05-01T18:06:25.069309Z"
    }
   },
   "source": [
    "display(widgets.VBox([summary_output]))"
   ],
   "outputs": [
    {
     "data": {
      "text/plain": [
       "VBox(children=(Output(),))"
      ],
      "application/vnd.jupyter.widget-view+json": {
       "version_major": 2,
       "version_minor": 0,
       "model_id": "03030ae895eb4ded93938746f2ea85fd"
      }
     },
     "metadata": {},
     "output_type": "display_data"
    }
   ],
   "execution_count": 4
  }
 ],
 "metadata": {
  "kernelspec": {
   "display_name": "Python 3 (ipykernel)",
   "language": "python",
   "name": "python3"
  },
  "language_info": {
   "codemirror_mode": {
    "name": "ipython",
    "version": 3
   },
   "file_extension": ".py",
   "mimetype": "text/x-python",
   "name": "python",
   "nbconvert_exporter": "python",
   "pygments_lexer": "ipython3",
   "version": "3.10.5"
  }
 },
 "nbformat": 4,
 "nbformat_minor": 4
}
