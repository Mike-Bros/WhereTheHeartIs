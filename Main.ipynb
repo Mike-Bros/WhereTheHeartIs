{
 "cells": [
  {
   "cell_type": "code",
   "metadata": {
    "ExecuteTime": {
     "end_time": "2024-06-19T03:38:37.851086Z",
     "start_time": "2024-06-19T03:38:37.846621Z"
    }
   },
   "source": [
    "# Import the required libraries\n",
    "import helpers.MortgagePaymentCalculator as mpc\n",
    "import ipywidgets as widgets\n",
    "import matplotlib.pyplot as plt\n",
    "from IPython.display import display, HTML\n",
    "import io\n",
    "from PIL import Image\n",
    "import os\n",
    "from datetime import datetime"
   ],
   "outputs": [],
   "execution_count": 37
  },
  {
   "cell_type": "code",
   "metadata": {
    "ExecuteTime": {
     "end_time": "2024-06-19T03:38:37.886945Z",
     "start_time": "2024-06-19T03:38:37.852063Z"
    }
   },
   "source": [
    "# Setup widgets using WidgetHelpers\n",
    "# Display the custom CSS\n",
    "display(HTML(mpc.WidgetHelpers.style_css()))\n",
    "\n",
    "# Create the widgets\n",
    "calculator_widgets = mpc.WidgetHelpers.create_mortgage_payment_calculator_widgets()\n",
    "# Create the output widgets\n",
    "summary_output = widgets.Output()\n",
    "\n",
    "\n",
    "# Define the function to run when the button is clicked\n",
    "def calculate_and_plot(b):\n",
    "    # Calculate the mortgage payments\n",
    "    results = mpc.Calculator.calculate_mortgage_payments(\n",
    "        calculator_widgets['home_price']['slider'].value,\n",
    "        calculator_widgets['down_payment_percent']['slider'].value,\n",
    "        calculator_widgets['loan_term_years']['slider'].value,\n",
    "        calculator_widgets['interest_rate_exact']['slider'].value,\n",
    "        calculator_widgets['interest_rate_start']['slider'].value,\n",
    "        calculator_widgets['interest_rate_end']['slider'].value,\n",
    "        calculator_widgets['interest_rate_step']['slider'].value,\n",
    "        calculator_widgets['cash_savings']['slider'].value,\n",
    "        calculator_widgets['moving_cost']['slider'].value,\n",
    "    )\n",
    "    with summary_output:\n",
    "        summary_output.clear_output(wait=True)\n",
    "        fig, ax = mpc.Plotter.construct_summary_graphs(results)\n",
    "        plt.show()\n",
    "\n",
    "# Define the function to export the current settings and summary to an image\n",
    "def export_to_image(b):\n",
    "    results = mpc.Calculator.calculate_mortgage_payments(\n",
    "        calculator_widgets['home_price']['slider'].value,\n",
    "        calculator_widgets['down_payment_percent']['slider'].value,\n",
    "        calculator_widgets['loan_term_years']['slider'].value,\n",
    "        calculator_widgets['interest_rate_exact']['slider'].value,\n",
    "        calculator_widgets['interest_rate_start']['slider'].value,\n",
    "        calculator_widgets['interest_rate_end']['slider'].value,\n",
    "        calculator_widgets['interest_rate_step']['slider'].value,\n",
    "        calculator_widgets['cash_savings']['slider'].value,\n",
    "        calculator_widgets['moving_cost']['slider'].value,\n",
    "    )\n",
    "    fig, ax = mpc.Plotter.construct_summary_graphs(results)\n",
    "    buf = io.BytesIO()\n",
    "    fig.savefig(buf, format='png')\n",
    "    buf.seek(0)\n",
    "    img = Image.open(buf)\n",
    "\n",
    "    # Create the exports directory if it doesn't exist\n",
    "    export_dir = 'exports'\n",
    "    if not os.path.exists(export_dir):\n",
    "        os.makedirs(export_dir)\n",
    "\n",
    "    # Create a timestamped filename\n",
    "    timestamp = datetime.now().strftime(\"%Y-%m-%d_%H-%M-%S\")\n",
    "    filename = os.path.join(export_dir, f'{timestamp}_mortgage_summary.svg')\n",
    "\n",
    "    # Save the image with the timestamped filename in the exports directory\n",
    "    fig.savefig(filename, format='svg')\n",
    "    print(f\"Image saved as {filename}\")\n",
    "\n",
    "# Create the export button\n",
    "export_button = widgets.Button(description=\"Export to Image\")\n",
    "export_button.on_click(export_to_image)\n",
    "\n",
    "\n",
    "# Make the sliders update trigger recalculation with replotting\n",
    "def update_slider(change):\n",
    "    if change['type'] == 'change' and change['name'] == 'value':\n",
    "        calculate_and_plot(None)\n",
    "\n",
    "\n",
    "for widget in calculator_widgets.values():\n",
    "    widget['slider'].observe(update_slider)\n",
    "\n",
    "sliders = []\n",
    "for key, widget in calculator_widgets.items():\n",
    "    sliders.append(widgets.HBox([widget['slider'], widget['label']]))\n",
    "\n",
    "ui = widgets.VBox(sliders)"
   ],
   "outputs": [
    {
     "data": {
      "text/plain": [
       "<IPython.core.display.HTML object>"
      ],
      "text/html": [
       "\n",
       "        <style>\n",
       "            .widget-label { width: 20ex !important; }\n",
       "                .widget-slider { width: 60% !important; }\n",
       "                .widget-button { width: 300px !important; margin: 10px 0px; }\n",
       "                .widget-text { width: 300px !important; }\n",
       "                .widget-select { width: 300px !important; }\n",
       "                .widget-output { height: 100% !important; }\n",
       "            </style>\n",
       "            "
      ]
     },
     "metadata": {},
     "output_type": "display_data"
    }
   ],
   "execution_count": 38
  },
  {
   "cell_type": "code",
   "metadata": {},
   "source": [
    "display(ui)"
   ],
   "outputs": [
    {
     "data": {
      "text/plain": [
       "VBox(children=(HBox(children=(FloatSlider(value=225000.0, description='Home Price', max=300000.0, min=150000.0…"
      ],
      "application/vnd.jupyter.widget-view+json": {
       "version_major": 2,
       "version_minor": 0,
       "model_id": "8441394305ea4178b63984fbf4615cf8"
      }
     },
     "metadata": {},
     "output_type": "display_data"
    }
   ],
   "execution_count": 39
  },
  {
   "cell_type": "code",
   "metadata": {},
   "source": "display(widgets.VBox([summary_output, export_button]))",
   "outputs": [
    {
     "data": {
      "text/plain": [
       "VBox(children=(Output(), Button(description='Export to Image', style=ButtonStyle())))"
      ],
      "application/vnd.jupyter.widget-view+json": {
       "version_major": 2,
       "version_minor": 0,
       "model_id": "25fc07413db24f06918c8a22d7394859"
      }
     },
     "metadata": {},
     "output_type": "display_data"
    }
   ],
   "execution_count": 40
  }
 ],
 "metadata": {
  "kernelspec": {
   "display_name": "Python 3 (ipykernel)",
   "language": "python",
   "name": "python3"
  },
  "language_info": {
   "codemirror_mode": {
    "name": "ipython",
    "version": 3
   },
   "file_extension": ".py",
   "mimetype": "text/x-python",
   "name": "python",
   "nbconvert_exporter": "python",
   "pygments_lexer": "ipython3",
   "version": "3.10.5"
  }
 },
 "nbformat": 4,
 "nbformat_minor": 4
}
